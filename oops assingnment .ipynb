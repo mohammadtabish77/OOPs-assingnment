{
 "cells": [
  {
   "cell_type": "markdown",
   "id": "efe925b3-b7f9-4466-899e-3f6ca5bce59a",
   "metadata": {},
   "source": [
    "Q1,EXPLAIN CLASS AND OBJECT WITH RESPECT TO OBJECT-ORENTED PROGRAMING. GIVE A SUITABLE EXAMPLE.\n",
    "\n",
    "ANS-- In object-oriented programming, a class is a blueprint or a template for creating objects. It defines the properties (attributes) and behaviors (methods)         that objects of that class will have. In simpler terms, a class can be thought of as a user-defined data type.\n",
    "      An object, on the other hand, is an instance of a class. It represents a specific occurrence or realization of the class, with its own unique state and           behavior.\n",
    "      \n",
    "      \n",
    "      "
   ]
  },
  {
   "cell_type": "code",
   "execution_count": 25,
   "id": "45d4026b-d644-42cc-ba8e-add8b07879d6",
   "metadata": {},
   "outputs": [],
   "source": [
    "class Car:\n",
    "    def __init__(self, brand, color, fuel_type):\n",
    "        self.brand = brand\n",
    "        self.color = color\n",
    "        self.fuel_type = fuel_type\n",
    "        self.is_engine_running = False\n",
    "\n",
    "    def start_engine(self):\n",
    "        self.is_engine_running = True\n",
    "        print(\"Engine started.\")\n",
    "\n",
    "    def stop_engine(self):\n",
    "        self.is_engine_running = False\n",
    "        print(\"Engine stopped.\")"
   ]
  },
  {
   "cell_type": "code",
   "execution_count": 26,
   "id": "df0f8030-91b9-46fd-bc07-4d3282128473",
   "metadata": {},
   "outputs": [],
   "source": [
    "car1 = Car(\"Toyota\", \"Red\", \"Petrol\")\n",
    "car2 = Car(\"BMW\", \"Blue\", \"Diesel\")"
   ]
  },
  {
   "cell_type": "code",
   "execution_count": 27,
   "id": "ddda15e2-f6fb-4f26-a1e2-97c16d867469",
   "metadata": {},
   "outputs": [
    {
     "name": "stdout",
     "output_type": "stream",
     "text": [
      "Toyota\n",
      "Blue\n",
      "Engine started.\n",
      "Engine stopped.\n"
     ]
    }
   ],
   "source": [
    "print(car1.brand)  \n",
    "print(car2.color)  \n",
    "\n",
    "car1.start_engine()  \n",
    "car2.stop_engine()  "
   ]
  },
  {
   "cell_type": "raw",
   "id": "8415dfae-f353-408d-867b-951ebcee255c",
   "metadata": {},
   "source": [
    "Q2,Name the four pillars of oops\n",
    "\n",
    "ANS-- 1. Encapsulation\n",
    "      2. Inheritance\n",
    "      3. Polymorphism\n",
    "      4. Abstraction"
   ]
  },
  {
   "cell_type": "markdown",
   "id": "df30b772-8be9-4070-a0ee-9f1cd971518d",
   "metadata": {},
   "source": [
    "Q3,Explain why _init_ ()function is used. Give suitable example.\n",
    "\n",
    "\n",
    "ANS--The _init_() function, also known as the constructor, is used in object-oriented programming languages like Python to initialize the attributes of an object      when it is created. It is a special method that gets automatically called when an object is instantiated from a class.\n",
    "     The primary purpose of the _init_() function is to set the initial state of the object by assigning values to its attributes. It allows you to define and          initialize the object's properties, ensuring that they have valid values from the beginning. This helps in maintaining the integrity and consistency of the        object's state"
   ]
  },
  {
   "cell_type": "code",
   "execution_count": 29,
   "id": "37678d92-6f3a-48ba-bbb9-b2d85f7eb5b7",
   "metadata": {},
   "outputs": [
    {
     "name": "stdout",
     "output_type": "stream",
     "text": [
      "Alice\n",
      "30\n",
      "My name is Alice and I am 25 years old.\n",
      "My name is Bob and I am 30 years old.\n"
     ]
    }
   ],
   "source": [
    "#I.G.\n",
    "class Person:\n",
    "    def __init__(self, name, age):\n",
    "        self.name = name\n",
    "        self.age = age\n",
    "\n",
    "    def introduce(self):\n",
    "        print(f\"My name is {self.name} and I am {self.age} years old.\")\n",
    "\n",
    "\n",
    "person1 = Person(\"Alice\", 25)\n",
    "person2 = Person(\"Bob\", 30)\n",
    "\n",
    "\n",
    "print(person1.name)  \n",
    "print(person2.age)   \n",
    "\n",
    "\n",
    "person1.introduce()  \n",
    "person2.introduce()  "
   ]
  },
  {
   "cell_type": "markdown",
   "id": "b89d4697-2c50-4f0d-8fc7-41177e275481",
   "metadata": {},
   "source": [
    "Q4,Why self is used in oops ?\n",
    "\n",
    "ANS--In object-oriented programming (OOP), self is a conventional parameter name used to refer to the instance of a class within its methods. It acts as a              reference to the specific object or instance on which a method is being called.\n",
    "     The use of self allows you to access and manipulate the attributes and methods of the object within its own scope. It helps in distinguishing between the          instance variables of the object and the local variables of the method."
   ]
  },
  {
   "cell_type": "markdown",
   "id": "024dd753-f751-45c1-8275-ce79a9643f29",
   "metadata": {},
   "source": [
    "Q5,What is inheritance ? Give an example for each type of inheritance\n",
    "\n",
    "ANS--Inheritance is a fundamental concept in object-oriented programming (OOP) that allows you to create new classes (derived classes) based on existing classes        (base or parent classes). The derived classes inherit the attributes and methods of the base class, enabling code reuse and promoting modularity and              extensibility.\n",
    "     There are different types of inheritance relationships, including:\n",
    "     \n",
    "     "
   ]
  },
  {
   "cell_type": "markdown",
   "id": "6a3230df-1aba-46b6-b90a-c72bb8268e00",
   "metadata": {},
   "source": [
    "1.Single Inheritance: Single inheritance involves deriving a new class from a single base class. It is the simplest form of inheritance, where the derived          class inherits all the attributes and methods of the base class.\n",
    "     "
   ]
  },
  {
   "cell_type": "code",
   "execution_count": 39,
   "id": "e609bda4-f06c-4006-8e8c-6b9c19045e37",
   "metadata": {},
   "outputs": [
    {
     "name": "stdout",
     "output_type": "stream",
     "text": [
      "Brand: Toyota\n",
      "Color: Red\n"
     ]
    }
   ],
   "source": [
    "#FOR EXAMPLE\n",
    "class Vehicle:\n",
    "    def __init__(self, brand):\n",
    "        self.brand = brand\n",
    "\n",
    "    def display_brand(self):\n",
    "        print(f\"Brand: {self.brand}\")\n",
    "\n",
    "class Car(Vehicle):\n",
    "    def __init__(self, brand, color):\n",
    "        super().__init__(brand)\n",
    "        self.color = color\n",
    "\n",
    "    def display_color(self):\n",
    "        print(f\"Color: {self.color}\")\n",
    "\n",
    "car = Car(\"Toyota\",\"Red\")\n",
    "car.display_brand() \n",
    "car.display_color()  "
   ]
  },
  {
   "cell_type": "markdown",
   "id": "2efff137-0f6e-4846-bb36-7c57b515baec",
   "metadata": {},
   "source": [
    "2 .Multilevel Inheritance: Multilevel inheritance involves deriving a new class from a derived class. It establishes a hierarchical inheritance structure, where      each derived class becomes the base class for the next level."
   ]
  },
  {
   "cell_type": "code",
   "execution_count": 40,
   "id": "cd52af9e-d33f-49fa-8e21-12c9885b8f1d",
   "metadata": {},
   "outputs": [
    {
     "name": "stdout",
     "output_type": "stream",
     "text": [
      "Eating...\n",
      "Barking...\n",
      "Guarding...\n"
     ]
    }
   ],
   "source": [
    "#for example\n",
    "class Animal:\n",
    "    def eat(self):\n",
    "        print(\"Eating...\")\n",
    "\n",
    "class Dog(Animal):\n",
    "    def bark(self):\n",
    "        print(\"Barking...\")\n",
    "\n",
    "class Bulldog(Dog):\n",
    "    def guard(self):\n",
    "        print(\"Guarding...\")\n",
    "\n",
    "bulldog = Bulldog()\n",
    "bulldog.eat()   \n",
    "bulldog.bark()   \n",
    "bulldog.guard() "
   ]
  },
  {
   "cell_type": "markdown",
   "id": "d8f01d08-ede6-406d-a304-845dc356fc42",
   "metadata": {},
   "source": [
    "3.ultiple Inheritance: Multiple inheritance involves deriving a new class from multiple base classes. It allows a derived class to inherit attributes and methods   from multiple parent classes, combining their functionalities."
   ]
  },
  {
   "cell_type": "code",
   "execution_count": 41,
   "id": "cbc4aeaa-d031-45e7-ad80-e691fbd9b7c9",
   "metadata": {},
   "outputs": [
    {
     "name": "stdout",
     "output_type": "stream",
     "text": [
      "Flying...\n",
      "Swimming...\n",
      "Quacking...\n"
     ]
    }
   ],
   "source": [
    "#for example\n",
    "class Flyer:\n",
    "    def fly(self):\n",
    "        print(\"Flying...\")\n",
    "\n",
    "class Swimmer:\n",
    "    def swim(self):\n",
    "        print(\"Swimming...\")\n",
    "\n",
    "class Duck(Flyer, Swimmer):\n",
    "    def quack(self):\n",
    "        print(\"Quacking...\")\n",
    "\n",
    "duck = Duck()\n",
    "duck.fly()    \n",
    "duck.swim()   \n",
    "duck.quack()  "
   ]
  }
 ],
 "metadata": {
  "kernelspec": {
   "display_name": "Python 3 (ipykernel)",
   "language": "python",
   "name": "python3"
  },
  "language_info": {
   "codemirror_mode": {
    "name": "ipython",
    "version": 3
   },
   "file_extension": ".py",
   "mimetype": "text/x-python",
   "name": "python",
   "nbconvert_exporter": "python",
   "pygments_lexer": "ipython3",
   "version": "3.10.8"
  }
 },
 "nbformat": 4,
 "nbformat_minor": 5
}
